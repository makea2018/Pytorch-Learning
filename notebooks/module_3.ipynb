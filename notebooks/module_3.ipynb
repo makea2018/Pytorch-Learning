{
 "cells": [
  {
   "cell_type": "markdown",
   "metadata": {},
   "source": [
    "# Модуль 3: Сверточные нейронные сети (CNN)"
   ]
  },
  {
   "cell_type": "markdown",
   "metadata": {},
   "source": [
    "## Теория"
   ]
  },
  {
   "cell_type": "markdown",
   "metadata": {},
   "source": [
    "### Определения"
   ]
  },
  {
   "cell_type": "markdown",
   "metadata": {},
   "source": [
    "Сверточные нейронные сети (CNN) являются одним из самых эффективных инструментов для анализа визуальных данных. Основные элементы, которые используются в сверточных нейронных сетях:  \n",
    "1. Сверточные слои (nn.Conv2d): Эти слои позволяют модели извлекать локальные особенности из изображений, используя фильтры (ядра). При выполнении свертки фильтры проходят по изображению, генерируя карты признаков.\n",
    "2. Слои подвыборки (nn.MaxPool2d): Эти слои уменьшают размер карт признаков, что помогает сократить вычислительные затраты и позволяет модели быть более устойчивой к искажениям и смещениям.\n",
    "3. Нелинейные функции активации: Например, ReLU (nn.ReLU()), которые добавляют нелинейность в модель, помогая моделям изучать сложные зависимости.\n",
    "4. Полносвязные слои (nn.Linear): Эти слои используются в конце сети, чтобы выполнить финальную классификацию на основе извлеченных признаков.\n",
    "5. Регуляризация: Dropout и другие техники помогают уменьшить переобучение."
   ]
  },
  {
   "cell_type": "markdown",
   "metadata": {},
   "source": [
    "### Как работают CNN?"
   ]
  },
  {
   "cell_type": "markdown",
   "metadata": {},
   "source": [
    "- **Свертка**: Входные изображения проходят через несколько сверточных слоев, где каждый слой обучает свою группу фильтров для извлечения специфических признаков.\n",
    "- **Пулинг**: После сверточных операций применяется слой пулинга, который уменьшает размерность карты признаков, сохраняя наиболее важные данные.\n",
    "- **Складная структура**: Сложение нескольких слоев свертки и пулинга помогает сети обучаться на уровнях абстракции, от низкоуровневых (например, края, текстуры) до высокоуровневых (например, формы, объекты)."
   ]
  },
  {
   "cell_type": "markdown",
   "metadata": {},
   "source": [
    "### Расчет размерности данных после сверточного слоя"
   ]
  },
  {
   "cell_type": "markdown",
   "metadata": {},
   "source": [
    "Для сверточного слоя, выходной размер (H_out и W_out) вычисляется по формуле:  \n",
    "  \n",
    "$H_{out} = (\\frac{H_{in} + 2P - K}{S} + 1)$  \n",
    "  \n",
    "$W_{out} = (\\frac{W_{in} + 2P - K}{S} + 1)$  \n",
    "  \n",
    "где:\n",
    "$H_{in}, W_{in}$ - высота и ширина входного изображения, $P$ - отступ (padding), $K$ - размер ядра (kernel_size), $S$ - шаг (stride)."
   ]
  },
  {
   "cell_type": "markdown",
   "metadata": {},
   "source": [
    "### Расчет размерности данных после Max Pooling:"
   ]
  },
  {
   "cell_type": "markdown",
   "metadata": {},
   "source": [
    "Для сверточного слоя, выходной размер (H_out и W_out) вычисляется по формуле:  \n",
    "  \n",
    "$H_{out} = (\\frac{H_{in} + 2P - K}{S} + 1)$  \n",
    "  \n",
    "$W_{out} = (\\frac{W_{in} + 2P - K}{S} + 1)$  \n",
    "  \n",
    "где:\n",
    "$H_{in}, W_{in}$ - высота и ширина входного изображения, $P$ - отступ (padding), $K$ - размер ядра (kernel_size), $S$ - шаг (stride)."
   ]
  },
  {
   "cell_type": "markdown",
   "metadata": {},
   "source": [
    "## Задачи"
   ]
  },
  {
   "cell_type": "code",
   "execution_count": 1,
   "metadata": {},
   "outputs": [],
   "source": [
    "import torch\n",
    "from torch import nn\n",
    "from torch.utils.data import DataLoader\n",
    "from torchvision import datasets\n",
    "from torchvision import transforms\n",
    "import matplotlib.pyplot as plt"
   ]
  },
  {
   "cell_type": "code",
   "execution_count": 2,
   "metadata": {},
   "outputs": [
    {
     "name": "stdout",
     "output_type": "stream",
     "text": [
      "Using cuda device\n"
     ]
    }
   ],
   "source": [
    "# Указание в качестве девайса GPU если доступна\n",
    "device = \"cuda\" if torch.cuda.is_available() else \"cpu\"\n",
    "print(f\"Using {device} device\")"
   ]
  },
  {
   "cell_type": "markdown",
   "metadata": {},
   "source": [
    "### Функции"
   ]
  },
  {
   "cell_type": "code",
   "execution_count": 24,
   "metadata": {},
   "outputs": [],
   "source": [
    "def train_model(\n",
    "        model: nn.Module,\n",
    "        num_epochs: int,\n",
    "        optimizer: torch.optim,\n",
    "        criterion: torch.nn,\n",
    "        train_dataloader: DataLoader\n",
    "    ):\n",
    "    \"\"\"\n",
    "    Функция для обучения модели.\n",
    "    \n",
    "    Args:\n",
    "        model (nn.Module): модель для обучения\n",
    "        num_epochs (int): кол-во итераций обучения\n",
    "        optimizer (torch.optim): оптимизатор\n",
    "        criterion (torch.nn): функция потерь\n",
    "        train_dataloader (torch.utils.data.DataLoader): загрузчик данных\n",
    "\n",
    "    Output:\n",
    "        loss_list (list): список значений функции потерь за каждый батч\n",
    "        acc_list (list): список точностей за каждый батч\n",
    "\n",
    "    \"\"\"\n",
    "    loss_list = []\n",
    "    acc_list = []\n",
    "\n",
    "    # Кол-во обучающих премеров\n",
    "    train_amount = len(train_dataloader)\n",
    "\n",
    "    # Загрузка модели на GPU\n",
    "    model.train().to(device)\n",
    "    # Обучение\n",
    "    for epoch in range(num_epochs):\n",
    "        total_loss = 0\n",
    "        total_acc = 0\n",
    "        \n",
    "        for data, targets in train_dataloader:\n",
    "            # Обнуление градиентов\n",
    "            optimizer.zero_grad()\n",
    "\n",
    "            # Перевод всех данных на GPU\n",
    "            data, targets = data.to(device), targets.to(device)\n",
    "\n",
    "            # Предсказания модели\n",
    "            outputs = model(data)\n",
    "\n",
    "            # Расчет функции потерь\n",
    "            loss = criterion(outputs, targets)\n",
    "\n",
    "            # Прибавление функции потерь к общей потере за эпоху\n",
    "            total_loss += loss.item()\n",
    "\n",
    "            # Вычисление градиентов\n",
    "            loss.backward()\n",
    "\n",
    "            # Отпимизация весов на основе расчитанных градиентов\n",
    "            optimizer.step()\n",
    "\n",
    "            # Расчет точности (accuracy)\n",
    "            total = targets.shape[0]\n",
    "            _, predicted = torch.max(outputs.data, 1)\n",
    "            correct = (predicted == targets).sum().item()\n",
    "            total_acc += correct / total\n",
    "        \n",
    "        # Расчет средней точности за эпоху\n",
    "        avg_loss = total_loss / train_amount\n",
    "        loss_list.append(avg_loss)\n",
    "\n",
    "        # Расчет средней точности за эпоху\n",
    "        avg_accuracy = total_acc / train_amount\n",
    "        acc_list.append(avg_accuracy)\n",
    "\n",
    "        # Вывод информации об эпохе обучения модели\n",
    "        print(f'Epoch: {epoch+1}/{num_epochs}, Loss: {avg_loss:.2f}, Accuracy: {avg_accuracy:.2f}')\n",
    "\n",
    "    return loss_list, acc_list\n"
   ]
  },
  {
   "cell_type": "code",
   "execution_count": 25,
   "metadata": {},
   "outputs": [],
   "source": [
    "def eval_model(\n",
    "    model: nn.Module,\n",
    "    test_dataloader: DataLoader  \n",
    "):\n",
    "    \"\"\"\n",
    "    Функция для оценки обученной модели.\n",
    "\n",
    "    Args:\n",
    "        model (nn.Module): обученная модель\n",
    "        test_dataloader (DataLoader): даталодер для тестовых данных\n",
    "\n",
    "    Output:\n",
    "        None\n",
    "    \"\"\"\n",
    "\n",
    "    # Оценка обученной модели\n",
    "    model.eval()\n",
    "    with torch.no_grad():\n",
    "        correct = 0\n",
    "        total = 0\n",
    "        for data, targets in test_dataloader:\n",
    "            data, targets = data.to(device), targets.to(device)\n",
    "            outputs = model(data)\n",
    "            _, predicted = torch.max(outputs.data, 1)\n",
    "            total += targets.shape[0]\n",
    "            correct += (predicted == targets).sum().item()\n",
    "\n",
    "        print('Test Accuracy of the model on the {} test images: {} %'.format(len(test_dataloader), (correct / total) * 100))"
   ]
  },
  {
   "cell_type": "markdown",
   "metadata": {},
   "source": [
    "### Создать простую сверточную нейронную сеть для CIFAR-10:\n",
    "Реализовать CNN с использованием слоев nn.Conv2d, nn.MaxPool2d и nn.Linear для классификации изображений CIFAR-10."
   ]
  },
  {
   "cell_type": "code",
   "execution_count": 3,
   "metadata": {},
   "outputs": [
    {
     "name": "stdout",
     "output_type": "stream",
     "text": [
      "Files already downloaded and verified\n",
      "Files already downloaded and verified\n"
     ]
    }
   ],
   "source": [
    "# Загрузка датасета (обучающие + тестовые данные)\n",
    "train_dataset = datasets.CIFAR10(\n",
    "    root=\"../data\",\n",
    "    train=True,\n",
    "    transform=transforms.ToTensor(),\n",
    "    download=True\n",
    ")\n",
    "\n",
    "test_dataset = datasets.CIFAR10(\n",
    "    root=\"../data\",\n",
    "    train=False,\n",
    "    transform=transforms.ToTensor(),\n",
    "    download=True\n",
    ")"
   ]
  },
  {
   "cell_type": "code",
   "execution_count": 7,
   "metadata": {},
   "outputs": [],
   "source": [
    "# Определение Dataloaders для удобства обучения модели нейросети на данных батчами\n",
    "train_dataloader = DataLoader(train_dataset, batch_size=16, shuffle=True)\n",
    "test_dataloader = DataLoader(test_dataset, batch_size=10, shuffle=True)"
   ]
  },
  {
   "cell_type": "code",
   "execution_count": 4,
   "metadata": {},
   "outputs": [
    {
     "data": {
      "image/png": "[encoded data removed]",
      "text/plain": [
       "<Figure size 640x480 with 9 Axes>"
      ]
     },
     "metadata": {},
     "output_type": "display_data"
    }
   ],
   "source": [
    "# Визуализация данных\n",
    "nrows = 3\n",
    "ncols = 3\n",
    "\n",
    "for i in range(nrows * ncols):\n",
    "    plt.subplot(nrows, ncols, i + 1)\n",
    "    img, label = train_dataset[i]\n",
    "    plt.imshow(img.moveaxis(0, 2))\n",
    "    plt.title(label)\n",
    "    plt.axis('off')\n",
    "    plt.tick_params(left = False, right = False , labelleft = False , \n",
    "                    labelbottom = False, bottom = False)\n",
    "\n",
    "plt.show()"
   ]
  },
  {
   "cell_type": "code",
   "execution_count": 18,
   "metadata": {},
   "outputs": [],
   "source": [
    "# CNN Архитектура\n",
    "class CNN(nn.Module):\n",
    "    def __init__(self, n_classes):\n",
    "        super().__init__()\n",
    "\n",
    "        # Сверточный слой\n",
    "        self.conv_layer = nn.Sequential(\n",
    "            nn.Conv2d(\n",
    "                in_channels=3,\n",
    "                out_channels=16,\n",
    "                kernel_size=(2, 2),\n",
    "                stride=1\n",
    "            ),\n",
    "            nn.ReLU(),\n",
    "            nn.MaxPool2d(\n",
    "                kernel_size=(2, 2),\n",
    "                stride=1\n",
    "            )\n",
    "        )\n",
    "\n",
    "        # Полносвязный слой\n",
    "        self.fc_layer = nn.Sequential(\n",
    "            nn.Flatten(),\n",
    "            nn.Linear(16 * 30 * 30, 256),\n",
    "            nn.ReLU(),\n",
    "            nn.Linear(256, n_classes)\n",
    "        )\n",
    "\n",
    "    def forward(self, x):\n",
    "        # Прогон изображения через сверточный слой (Формирование карты признаков)\n",
    "        x = self.conv_layer(x)\n",
    "\n",
    "        # Прогон изображения с картой признаков через полносвязный слой\n",
    "        logits = self.fc_layer(x)\n",
    "\n",
    "        return logits\n",
    "    "
   ]
  },
  {
   "cell_type": "code",
   "execution_count": 19,
   "metadata": {},
   "outputs": [],
   "source": [
    "# Определение модели\n",
    "model = CNN(10)"
   ]
  },
  {
   "cell_type": "code",
   "execution_count": 20,
   "metadata": {},
   "outputs": [
    {
     "name": "stdout",
     "output_type": "stream",
     "text": [
      "Epoch: 1/10, Loss: 1.54, Accuracy: 0.44\n",
      "Epoch: 2/10, Loss: 1.22, Accuracy: 0.56\n",
      "Epoch: 3/10, Loss: 1.10, Accuracy: 0.61\n",
      "Epoch: 4/10, Loss: 1.02, Accuracy: 0.64\n",
      "Epoch: 5/10, Loss: 0.96, Accuracy: 0.66\n",
      "Epoch: 6/10, Loss: 0.91, Accuracy: 0.68\n",
      "Epoch: 7/10, Loss: 0.86, Accuracy: 0.70\n",
      "Epoch: 8/10, Loss: 0.82, Accuracy: 0.71\n",
      "Epoch: 9/10, Loss: 0.77, Accuracy: 0.73\n",
      "Epoch: 10/10, Loss: 0.73, Accuracy: 0.74\n"
     ]
    }
   ],
   "source": [
    "# Обучение модели\n",
    "num_epochs = 10\n",
    "# Оптимизатор\n",
    "optimizer = torch.optim.Adam(model.parameters(), lr=0.001)\n",
    "# Функция потерь\n",
    "criterion = nn.CrossEntropyLoss()\n",
    "loss_list = []\n",
    "acc_list = []\n",
    "\n",
    "# Кол-во обучающих премеров\n",
    "train_amount = len(train_dataloader)\n",
    "\n",
    "# Загрузка модели на GPU\n",
    "model.train().to(device)\n",
    "# Обучение\n",
    "for epoch in range(num_epochs):\n",
    "    total_loss = 0\n",
    "    total_acc = 0\n",
    "    \n",
    "    for data, targets in train_dataloader:\n",
    "        # Обнуление градиентов\n",
    "        optimizer.zero_grad()\n",
    "\n",
    "        # Перевод всех данных на GPU\n",
    "        data, targets = data.to(device), targets.to(device)\n",
    "\n",
    "        # Предсказания модели\n",
    "        outputs = model(data)\n",
    "\n",
    "        # Расчет функции потерь\n",
    "        loss = criterion(outputs, targets)\n",
    "\n",
    "        # Прибавление функции потерь к общей потере за эпоху\n",
    "        total_loss += loss.item()\n",
    "\n",
    "        # Вычисление градиентов\n",
    "        loss.backward()\n",
    "\n",
    "        # Отпимизация весов на основе расчитанных градиентов\n",
    "        optimizer.step()\n",
    "\n",
    "        # Расчет точности (accuracy)\n",
    "        total = targets.shape[0]\n",
    "        _, predicted = torch.max(outputs.data, 1)\n",
    "        correct = (predicted == targets).sum().item()\n",
    "        total_acc += correct / total\n",
    "    \n",
    "    # Расчет средней точности за эпоху\n",
    "    avg_loss = total_loss / train_amount\n",
    "    loss_list.append(avg_loss)\n",
    "\n",
    "    # Расчет средней точности за эпоху\n",
    "    avg_accuracy = total_acc / train_amount\n",
    "    acc_list.append(avg_accuracy)\n",
    "\n",
    "    # Вывод информации об эпохе обучения модели\n",
    "    print(f'Epoch: {epoch+1}/{num_epochs}, Loss: {avg_loss:.2f}, Accuracy: {avg_accuracy:.2f}')\n"
   ]
  },
  {
   "cell_type": "code",
   "execution_count": 23,
   "metadata": {},
   "outputs": [
    {
     "name": "stdout",
     "output_type": "stream",
     "text": [
      "Test Accuracy of the model on the 1000 test images: 60.38 %\n"
     ]
    }
   ],
   "source": [
    "# Оценка обученной модели\n",
    "model.eval()\n",
    "with torch.no_grad():\n",
    "    correct = 0\n",
    "    total = 0\n",
    "    for data, targets in test_dataloader:\n",
    "        data, targets = data.to(device), targets.to(device)\n",
    "        outputs = model(data)\n",
    "        _, predicted = torch.max(outputs.data, 1)\n",
    "        total += targets.shape[0]\n",
    "        correct += (predicted == targets).sum().item()\n",
    "\n",
    "    print('Test Accuracy of the model on the {} test images: {} %'.format(len(test_dataloader), (correct / total) * 100))"
   ]
  },
  {
   "cell_type": "markdown",
   "metadata": {},
   "source": [
    "### Экспериментировать с различными архитектурами:\n",
    "Изменить количество слоев свертки, размер фильтров и параметры пулинга, чтобы понять, как изменения влияют на производительность и точность модели.\n",
    "  \n",
    "Задачи:\n",
    "1. Добавить еще один сверточный слой с параметрами: P (Padding) = 0, K (Kernel Size) = (3, 3), S (Stride) = 1.\n",
    "2. В первом сверточном слое изменить размеры фильтров на K = (5, 5).\n",
    "3. В первом сверточном слое изменить измененить количество выходных каналов на out_channels = 32. Это позволит извлекать больше признаков из изображения.\n",
    "4. Добавить Batch Normalization (Нормализация батча) после 1-го сверточного слоя для улучшения стабильности и ускорения обучения.\n",
    "5. Изменить параметры 1-го MaxPool2D (пуллинга): S (Stride) с 1 на 2.\n",
    "6. Добавить слой Dropout для регуляризации, чтобы уменьшить вероятность переобучения модели с вероятностью отключения нейрона p = 0.5."
   ]
  },
  {
   "cell_type": "code",
   "execution_count": 40,
   "metadata": {},
   "outputs": [],
   "source": [
    "class UpdatedCNN(nn.Module):\n",
    "    def __init__(self, n_classes):\n",
    "        super().__init__()\n",
    "\n",
    "        # Сверточный слой\n",
    "        self.conv_layer1 = nn.Sequential(\n",
    "            nn.Conv2d(\n",
    "                in_channels=3,\n",
    "                out_channels=32,\n",
    "                kernel_size=(5, 5),\n",
    "                stride=1\n",
    "            ),\n",
    "            nn.ReLU(),\n",
    "            nn.BatchNorm2d(32),\n",
    "            nn.MaxPool2d(\n",
    "                kernel_size=(2, 2),\n",
    "                stride=2\n",
    "            )\n",
    "        )\n",
    "        \n",
    "        self.conv_layer2 = nn.Sequential(\n",
    "            nn.Conv2d(\n",
    "                in_channels=32,\n",
    "                out_channels=64,\n",
    "                kernel_size=(3, 3),\n",
    "                stride=1\n",
    "            ),\n",
    "            nn.ReLU(),\n",
    "            nn.MaxPool2d(\n",
    "                kernel_size=(3, 3),\n",
    "                stride=1\n",
    "            )\n",
    "        )\n",
    "\n",
    "        # Полносвязный слой\n",
    "        self.fc_layer = nn.Sequential(\n",
    "            nn.Flatten(),\n",
    "            nn.Linear(64 * 10 * 10, 512),\n",
    "            nn.ReLU(),\n",
    "            nn.Dropout(0.15), # Регуляризация\n",
    "            nn.Linear(512, n_classes)\n",
    "        )\n",
    "    \n",
    "    def forward(self, x):\n",
    "        # Прогон данных через сверточный слой 1\n",
    "        x = self.conv_layer1(x)\n",
    "\n",
    "        # Прогон данных через сверточный слой 2\n",
    "        x = self.conv_layer2(x)\n",
    "\n",
    "        # Прогон данных через полносвязный слой\n",
    "        logits = self.fc_layer(x)\n",
    "\n",
    "        return logits\n",
    "    "
   ]
  },
  {
   "cell_type": "code",
   "execution_count": 41,
   "metadata": {},
   "outputs": [],
   "source": [
    "# Определение модели, оптимизатора и функции потерь\n",
    "model = UpdatedCNN(10)\n",
    "n_classes = 10\n",
    "optimizer = torch.optim.Adam(model.parameters(), lr=0.001)\n",
    "criterion = torch.nn.CrossEntropyLoss()"
   ]
  },
  {
   "cell_type": "code",
   "execution_count": 42,
   "metadata": {},
   "outputs": [
    {
     "name": "stdout",
     "output_type": "stream",
     "text": [
      "Epoch: 1/10, Loss: 1.41, Accuracy: 0.50\n",
      "Epoch: 2/10, Loss: 1.10, Accuracy: 0.62\n",
      "Epoch: 3/10, Loss: 0.98, Accuracy: 0.66\n",
      "Epoch: 4/10, Loss: 0.89, Accuracy: 0.69\n",
      "Epoch: 5/10, Loss: 0.81, Accuracy: 0.72\n",
      "Epoch: 6/10, Loss: 0.74, Accuracy: 0.74\n",
      "Epoch: 7/10, Loss: 0.69, Accuracy: 0.76\n",
      "Epoch: 8/10, Loss: 0.63, Accuracy: 0.78\n",
      "Epoch: 9/10, Loss: 0.59, Accuracy: 0.79\n",
      "Epoch: 10/10, Loss: 0.55, Accuracy: 0.81\n"
     ]
    }
   ],
   "source": [
    "# Обучение модели\n",
    "loss_list, acc_list = train_model(model, num_epochs, optimizer, criterion, train_dataloader)"
   ]
  },
  {
   "cell_type": "code",
   "execution_count": 43,
   "metadata": {},
   "outputs": [
    {
     "name": "stdout",
     "output_type": "stream",
     "text": [
      "Test Accuracy of the model on the 1000 test images: 68.14 %\n"
     ]
    }
   ],
   "source": [
    "# Оценка качества модели\n",
    "eval_model(model, test_dataloader)"
   ]
  },
  {
   "cell_type": "code",
   "execution_count": 54,
   "metadata": {},
   "outputs": [
    {
     "data": {
      "image/png": "[encoded data removed]",
      "text/plain": [
       "<Figure size 1000x500 with 2 Axes>"
      ]
     },
     "metadata": {},
     "output_type": "display_data"
    }
   ],
   "source": [
    "# Визуализация loss и accuracy\n",
    "# 1-ый график\n",
    "plt.figure(figsize=(10, 5))\n",
    "plt.subplot(1, 2, 1)\n",
    "plt.plot(loss_list, color='g')\n",
    "plt.title(\"Loss\")\n",
    "plt.grid()\n",
    "\n",
    "# 2-ой график\n",
    "plt.subplot(1, 2, 2)\n",
    "plt.title(\"Accuracy\")\n",
    "plt.plot(acc_list)\n",
    "plt.grid()\n",
    "\n",
    "plt.show()"
   ]
  },
  {
   "cell_type": "markdown",
   "metadata": {},
   "source": [
    "**Результат**: Качество модели выросло на ~8 %. Очень неплохой результат, модель стала обучаться быстрее, но при этом она не переобучается."
   ]
  }
 ],
 "metadata": {
  "kernelspec": {
   "display_name": ".venv",
   "language": "python",
   "name": "python3"
  },
  "language_info": {
   "codemirror_mode": {
    "name": "ipython",
    "version": 3
   },
   "file_extension": ".py",
   "mimetype": "text/x-python",
   "name": "python",
   "nbconvert_exporter": "python",
   "pygments_lexer": "ipython3",
   "version": "3.12.7"
  }
 },
 "nbformat": 4,
 "nbformat_minor": 2
}
