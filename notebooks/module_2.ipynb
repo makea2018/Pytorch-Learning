{
 "cells": [
  {
   "cell_type": "markdown",
   "metadata": {},
   "source": [
    "# Модуль 2: Основы нейронных сетей"
   ]
  },
  {
   "cell_type": "markdown",
   "metadata": {},
   "source": [
    "## Теория"
   ]
  },
  {
   "cell_type": "markdown",
   "metadata": {},
   "source": [
    "### Основные понятия\n",
    "Что такое нейрон, слой, активация?"
   ]
  },
  {
   "cell_type": "markdown",
   "metadata": {},
   "source": [
    "Определения:\n",
    "1. Нейрон - это вычислительная единица, которая получает информацию, производит над ней простые вычисления и передает ее дальше. У каждого нейрона есть 2 параметра: входные данные (input data), выходные данные (output data). Типы нейронов: входной нейрон (input = output), скрытый нейрон - нейрон на промежуточном слое между входными и выходными нейронами (input data = суммарная информация всех нейронов с предыдущего слоя).\n",
    "2. Слой - нейросеть состоит из большого количества нейронов. Нейроны одного типа объединяются в группу. Это и называется слоем.\n",
    "3. Активация (функция активации) - функция преобразовывает линейную зависимость во входных данных в нелинейную. Это ее главная задача. Поскольку на линейной зависимости сеть не обучится. Вот ее формула: $activation_func(sum(weight * inputs + bias))$. Популярные функции активации: \n",
    " - ReLU - $E(f) = [0, \\infty)$ - уменьшение проблемы исчезающего градиента;\n",
    " - Sigmoid - $E(f) = [0, 1]$ - бинарная классификация;\n",
    " - Softmax - принимает список произвольных чисел и преобразует их в список вероятностей пропорциональных этим числам. Например, на вход подается список [1, 2, 3]. Тогда: $softmax([1, 2, 3]) = [0.09, 0.244, 0.665]$ - многоклассовая классификация;\n",
    " - Tanh - $E(f) = [-1, 1]$ - выходные значения tanh находятся в диапазоне от -1 до 1, что делает ее центрированной относительно нуля. Это выгодно, поскольку это может помочь процессу обучения, так как данные, проходящие через сеть, в среднем будут поддерживать среднее значение близкое к 0, что в свою очередь помогает оптимизации методом градиентного спуска. tanh часто используется в скрытых слоях.\n",
    " - Binary Step Function (ступенчатая) - первая использованная функция активации в контексте нейронных сетей. В наше время функция не часто используется в современных нейронных сетях, потому что она не дифференцируема на пороге $\\theta$, что делает ее непригодной для использования с обратным распространением ошибки (методом, используемым для обучения нейронных сетей).\n",
    " $$\n",
    " f(x)=\n",
    " \\begin{cases}\n",
    " 0 & \\quad \\text{if $x < \\theta$}\\\\ \n",
    " 1 & \\quad \\text{if $x \\geq \\theta$}\n",
    " \\end{cases}\n",
    " $$"
   ]
  },
  {
   "cell_type": "markdown",
   "metadata": {},
   "source": [
    "### Определение процессов"
   ]
  },
  {
   "cell_type": "markdown",
   "metadata": {},
   "source": [
    "1. Обучение: Процесс настройки весов нейронной сети с использованием алгоритма обратного распространения ошибки (backpropagation) и оптимизации.\n",
    "2. Переобучение (overfitting): Ситуация, когда модель слишком хорошо подстраивается под обучающие данные и плохо работает на новых данных."
   ]
  },
  {
   "cell_type": "markdown",
   "metadata": {},
   "source": [
    "### Важные определения для обучения модели"
   ]
  },
  {
   "cell_type": "markdown",
   "metadata": {},
   "source": [
    "1. Функция потерь (Loss Function) - это математическая функция, которая измеряет, насколько хорошо модель предсказывает целевые значения. Она вычисляет разницу между предсказанными значениями моделью и фактическими значениями целевых переменных. Примеры:\n",
    " - Mean Squared Error (MSE): Используется для регрессионных задач, вычисляет среднюю квадратную ошибку между предсказанными и фактическими значениями.\n",
    "- Cross-Entropy Loss: Используется для задач классификации, измеряет несоответствие между предсказанным вероятностным распределением и истинным распределением.\n",
    "\n",
    "2. Оптимизатор — это алгоритм, который обновляет веса нейронной сети на основе градиента функции потерь. Он помогает находить минимальные значения функции потерь, которые означают хорошее предсказание моделью. Примеры оптимизаторов:\n",
    "- Stochastic Gradient Descent (SGD): Обновляет веса, основываясь на одном или нескольких примерах из обучающего набора данных.\n",
    "- Adam (Adaptive Moment Estimation): Комбинирует преимущества двух других методов: адаптивной скорости обучения и использование момента. Обычно работает лучше, особенно с глубокими сетями."
   ]
  },
  {
   "cell_type": "markdown",
   "metadata": {},
   "source": [
    "### Процесс обучения модели нейросети"
   ]
  },
  {
   "cell_type": "markdown",
   "metadata": {},
   "source": [
    "Цель: подобрать веса модели, при которых функция потерь будет минимальной!\n",
    "  \n",
    "Итерация обучения модели состоит из шагов:\n",
    "1. Прямое распространение (Forward Pass): Входные данные передаются через нейронную сеть, где каждый слой обрабатывает данные до тех пор, пока не будет получен финальный выход.\n",
    "2. Вычисление функции потерь: После прямого распространения рассчитывается значение функции потерь, которое показывает, насколько хорошо модель справляется с этой задачей.\n",
    "3. Обратное распространение (Backward Pass): Процесс, в котором вычисляются градиенты функции потерь по отношению к весам модели. Это позволяет понять, как изменять веса, чтобы уменьшить ошибку.\n",
    "4. Обновление весов: Оптимизатор использует градиенты, чтобы обновить веса модели. Это повторяется многократно, пока не будет достигнуто приемлемое значение функции потерь."
   ]
  },
  {
   "cell_type": "markdown",
   "metadata": {},
   "source": [
    "## Задачи"
   ]
  },
  {
   "cell_type": "code",
   "execution_count": 1,
   "metadata": {},
   "outputs": [],
   "source": [
    "import torch\n",
    "from torch import nn\n",
    "from torch.utils.data import Dataset, DataLoader\n",
    "from torchvision import datasets\n",
    "from torchvision.transforms import ToTensor\n",
    "import matplotlib.pyplot as plt\n",
    "\n",
    "from tqdm import tqdm"
   ]
  },
  {
   "cell_type": "code",
   "execution_count": 2,
   "metadata": {},
   "outputs": [
    {
     "name": "stdout",
     "output_type": "stream",
     "text": [
      "Using cuda device\n"
     ]
    }
   ],
   "source": [
    "# Указание в качестве девайса GPU если доступна\n",
    "device = \"cuda\" if torch.cuda.is_available() else \"cpu\"\n",
    "print(f\"Using {device} device\")"
   ]
  },
  {
   "cell_type": "code",
   "execution_count": 3,
   "metadata": {},
   "outputs": [],
   "source": [
    "# Загрузка данных\n",
    "train_data = datasets.MNIST(\n",
    "    root=\"../data\",\n",
    "    train=True,\n",
    "    download=True,\n",
    "    transform=ToTensor())\n",
    "\n",
    "test_data = datasets.MNIST(\n",
    "    root=\"../data\",\n",
    "    train=False,\n",
    "    download=True,\n",
    "    transform=ToTensor())\n"
   ]
  },
  {
   "cell_type": "code",
   "execution_count": 5,
   "metadata": {},
   "outputs": [],
   "source": [
    "# Создание DataLoaders\n",
    "train_dataloader = DataLoader(\n",
    "    train_data,\n",
    "    batch_size=16,\n",
    "    shuffle=True)\n",
    "\n",
    "test_dataloader = DataLoader(\n",
    "    test_data,\n",
    "    batch_size=16,\n",
    "    shuffle=True)\n"
   ]
  },
  {
   "cell_type": "markdown",
   "metadata": {},
   "source": [
    "### Первая нейронная сеть:\n",
    "Реализовать простую полносвязную нейронную сеть для задачи классификации MNIST. Использовать один скрытый слой и функцию активации ReLU."
   ]
  },
  {
   "cell_type": "code",
   "execution_count": 4,
   "metadata": {},
   "outputs": [
    {
     "data": {
      "text/plain": [
       "<function matplotlib.pyplot.show(close=None, block=None)>"
      ]
     },
     "execution_count": 4,
     "metadata": {},
     "output_type": "execute_result"
    },
    {
     "data": {
      "image/png": "[encoded data removed]",
      "text/plain": [
       "<Figure size 500x500 with 9 Axes>"
      ]
     },
     "metadata": {},
     "output_type": "display_data"
    }
   ],
   "source": [
    "# Визуализация данных\n",
    "figure = plt.figure(figsize=(5, 5))\n",
    "cols, rows = 3, 3\n",
    "for i in range(1, cols * rows + 1):\n",
    "    img, label = train_data[i]\n",
    "    figure.add_subplot(rows, cols, i)\n",
    "    plt.title(label)\n",
    "    plt.axis(\"off\")\n",
    "    plt.imshow(img.squeeze())\n",
    "\n",
    "plt.show"
   ]
  },
  {
   "cell_type": "code",
   "execution_count": 6,
   "metadata": {},
   "outputs": [
    {
     "name": "stdout",
     "output_type": "stream",
     "text": [
      "Feature batch shape: torch.Size([16, 1, 28, 28])\n",
      "Labels batch shape: torch.Size([16])\n"
     ]
    },
    {
     "data": {
      "image/png": "[encoded data removed]",
      "text/plain": [
       "<Figure size 640x480 with 1 Axes>"
      ]
     },
     "metadata": {},
     "output_type": "display_data"
    },
    {
     "name": "stdout",
     "output_type": "stream",
     "text": [
      "Label: 7\n"
     ]
    }
   ],
   "source": [
    "train_features, train_labels = next(iter(train_dataloader))\n",
    "print(f\"Feature batch shape: {train_features.size()}\")\n",
    "print(f\"Labels batch shape: {train_labels.size()}\")\n",
    "img = train_features[0].squeeze()\n",
    "label = train_labels[0]\n",
    "plt.imshow(img, cmap=\"gray\")\n",
    "plt.show()\n",
    "print(f\"Label: {label}\")"
   ]
  },
  {
   "cell_type": "code",
   "execution_count": 7,
   "metadata": {},
   "outputs": [],
   "source": [
    "# Создание модели нейросети\n",
    "# FCNN (Fully Connected Neural Network) - Полносвязная нейронная сеть (она же MLP - Многослойный перцептрон)\n",
    "class NeuralNetwork(nn.Module):\n",
    "    def __init__(self, n_classes):\n",
    "        super().__init__()\n",
    "\n",
    "        # Входной слой - перевод из 2D массива в 1D\n",
    "        self.input_layer = nn.Flatten()\n",
    "        # Скрытые слои\n",
    "        self.hidden_1 = nn.Linear(28*28, 512) # Скрытый слой №1\n",
    "        # Функция активации - переводит линейную связь в нелинейную\n",
    "        self.activation_func_1 = nn.ReLU()\n",
    "        \n",
    "        self.hidden_2 = nn.Linear(512, 512) # Скрытый слой №2\n",
    "        # Функция активации - переводит линейную связь в нелинейную\n",
    "        self.activation_func_2 = nn.ReLU()\n",
    "\n",
    "        # Выходной слой\n",
    "        self.output_layer = nn.Linear(512, n_classes) # На выходе кол-во классов\n",
    "        \n",
    "        # Для удобства собираем все в один контейнер последовательный\n",
    "        # Это сокращает и улучшает читаемость кода\n",
    "        self.sequential_container = nn.Sequential(\n",
    "            self.hidden_1,\n",
    "            self.activation_func_1,\n",
    "            self.hidden_2,\n",
    "            self.activation_func_2,\n",
    "            self.output_layer\n",
    "        )\n",
    "\n",
    "    def forward(self, x):\n",
    "        # Изображение 2D проходит через входной слой, где преобразовывается в 1D массив\n",
    "        x = self.input_layer(x)\n",
    "        # Проход 1D вектора изображения через все слои нейросети\n",
    "        # На выходе получаем логиты (кол-во логитов = кол-во классов)\n",
    "        logits = self.sequential_container(x)\n",
    "\n",
    "        return logits\n",
    "    "
   ]
  },
  {
   "cell_type": "code",
   "execution_count": 11,
   "metadata": {},
   "outputs": [
    {
     "name": "stderr",
     "output_type": "stream",
     "text": [
      "  0%|          | 0/5 [00:00<?, ?it/s]"
     ]
    },
    {
     "name": "stderr",
     "output_type": "stream",
     "text": [
      "100%|██████████| 5/5 [00:49<00:00,  9.97s/it]"
     ]
    },
    {
     "name": "stdout",
     "output_type": "stream",
     "text": [
      "Обучение завершено!\n"
     ]
    },
    {
     "name": "stderr",
     "output_type": "stream",
     "text": [
      "\n"
     ]
    }
   ],
   "source": [
    "# Создание объекта нейросети\n",
    "model = NeuralNetwork(10).to(device=device) # сразу переводим модель на GPU\n",
    "# Определение функции потерь\n",
    "criterion = nn.CrossEntropyLoss()\n",
    "# Выбор оптимизатора\n",
    "optimizer = torch.optim.Adam(model.parameters(), lr=0.001)\n",
    "\n",
    "# Обучение нейросети\n",
    "model.train() # Перевод модели в стадию обучения\n",
    "\n",
    "for epoch in tqdm(range(5)): # Обучение длится 5 эпох\n",
    "    for data, target in train_dataloader:\n",
    "        data = data.to(device) # Перенос всех данных на GPU\n",
    "        target = target.to(device) # Перенос всех данных на GPU\n",
    "        optimizer.zero_grad() # Обнуляем градиенты\n",
    "        output = model(data) # Прямое распространение (данные проходят через все слои)\n",
    "        loss = criterion(output, target) # Вычисление функции потерь\n",
    "        loss.backward() # Обратное распространение\n",
    "        optimizer.step()\n",
    "\n",
    "print(\"Обучение завершено!\")"
   ]
  },
  {
   "cell_type": "code",
   "execution_count": 13,
   "metadata": {},
   "outputs": [
    {
     "name": "stdout",
     "output_type": "stream",
     "text": [
      "Epoch 1/5. Loss: 0.196\n",
      "Epoch 2/5. Loss: 0.088\n",
      "Epoch 3/5. Loss: 0.062\n",
      "Epoch 4/5. Loss: 0.050\n",
      "Epoch 5/5. Loss: 0.041\n"
     ]
    }
   ],
   "source": [
    "# Расширение выходной информации об обучении модели\n",
    "# + визуализация обучения модели\n",
    "model = NeuralNetwork(10) # Определение модели\n",
    "\n",
    "criterion = nn.CrossEntropyLoss() # Функция потерь для классификации\n",
    "optimizer = torch.optim.Adam(model.parameters(), lr=0.001)\n",
    "\n",
    "\n",
    "model.train()\n",
    "all_losses = []\n",
    "num_epochs = 5\n",
    "for epoch in range(num_epochs):\n",
    "    total_loss = 0\n",
    "    for data, targets in train_dataloader:\n",
    "        optimizer.zero_grad() # Обнуление градиентов\n",
    "        outputs = model(data) # Пропуск данных через модель, на выходе логиты\n",
    "\n",
    "        loss = criterion(outputs, targets) # Расчет функции потерь\n",
    "        total_loss += loss.item()\n",
    "        loss.backward() # Обратное распространение\n",
    "        optimizer.step() # Оптимизатор обновляет веса согласно полученным значением градиентов   \n",
    "    \n",
    "    avg_loss = total_loss / len(train_dataloader) # Расчет среднего значения функции потерь на эпохе\n",
    "    all_losses.append(avg_loss)\n",
    "    # Вывод информации об обучении на эпохе\n",
    "    print(f\"Epoch {epoch + 1}/{num_epochs}. Loss: {avg_loss:.3f}\")\n",
    "    "
   ]
  },
  {
   "cell_type": "code",
   "execution_count": 14,
   "metadata": {},
   "outputs": [
    {
     "data": {
      "image/png": "[encoded data removed]",
      "text/plain": [
       "<Figure size 640x480 with 1 Axes>"
      ]
     },
     "metadata": {},
     "output_type": "display_data"
    },
    {
     "name": "stdout",
     "output_type": "stream",
     "text": [
      "Обучение завершено!\n"
     ]
    }
   ],
   "source": [
    "# Визуализация обучения модели\n",
    "plt.plot(all_losses)\n",
    "plt.title('Значение функции потерь')\n",
    "plt.xlabel('Эпохи')\n",
    "plt.ylabel('Значение')\n",
    "plt.show()\n",
    "print('Обучение завершено!')"
   ]
  },
  {
   "cell_type": "markdown",
   "metadata": {},
   "source": [
    "### Классификация с различными функциями активации:\n",
    "Перепиши свою модель для использования функций активации Sigmoid, Tanh и Compare performance по метрикам (например, Precision, Recall, F1)."
   ]
  },
  {
   "cell_type": "markdown",
   "metadata": {},
   "source": [
    "### Добавление слоев:\n",
    "Увеличь количество скрытых слоев в своей модели до трех и экспериментируй с количеством нейронов в них. Проанализируй, как это влияет на производительность."
   ]
  },
  {
   "cell_type": "markdown",
   "metadata": {},
   "source": [
    "### Обучение с использованием SGD:\n",
    "Создай свою модель и обучи ее, используя стохастический градиентный спуск (SGD). Сравни точность модели по сравнению с применением Adam в качестве оптимизатора."
   ]
  },
  {
   "cell_type": "markdown",
   "metadata": {},
   "source": [
    "### Регуляризация:\n",
    "Реализуй технику регуляризации Dropout в своей нейронной сети и сравни результаты с полученными ранее."
   ]
  },
  {
   "cell_type": "markdown",
   "metadata": {},
   "source": [
    "### Датасет CIFAR-10:\n",
    "Загрузите и предобработайте датасет CIFAR-10, реализуй нейронную сеть, используя архитектуру с несколькими слоями."
   ]
  },
  {
   "cell_type": "markdown",
   "metadata": {},
   "source": [
    "### Переобучение:\n",
    "Намеренно создай переобученную модель, используя небольшое количество эпох для обучения, а затем продемонстрируй, как использовать валидационный набор для уменьшения переобучения."
   ]
  },
  {
   "cell_type": "markdown",
   "metadata": {},
   "source": []
  }
 ],
 "metadata": {
  "kernelspec": {
   "display_name": ".venv",
   "language": "python",
   "name": "python3"
  },
  "language_info": {
   "codemirror_mode": {
    "name": "ipython",
    "version": 3
   },
   "file_extension": ".py",
   "mimetype": "text/x-python",
   "name": "python",
   "nbconvert_exporter": "python",
   "pygments_lexer": "ipython3",
   "version": "3.12.7"
  }
 },
 "nbformat": 4,
 "nbformat_minor": 2
}
